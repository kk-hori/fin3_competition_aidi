{
 "cells": [
  {
   "cell_type": "markdown",
   "metadata": {},
   "source": [
    "# Azure AI Document Intelligence の動作確認"
   ]
  },
  {
   "cell_type": "code",
   "execution_count": null,
   "metadata": {},
   "outputs": [],
   "source": [
    "from typing_extensions import Any"
   ]
  },
  {
   "cell_type": "code",
   "execution_count": null,
   "metadata": {},
   "outputs": [],
   "source": [
    "import sys\n",
    "\n",
    "sys.path.append(\"../src\")"
   ]
  },
  {
   "cell_type": "code",
   "execution_count": null,
   "metadata": {},
   "outputs": [],
   "source": [
    "from common.load_config import get_input_dir, get_output_dir\n",
    "\n",
    "input_dir = get_input_dir()\n",
    "output_dir = get_output_dir()\n",
    "\n",
    "path_input_file = input_dir / \"2_15.pdf\""
   ]
  },
  {
   "cell_type": "code",
   "execution_count": null,
   "metadata": {},
   "outputs": [],
   "source": [
    "import os\n",
    "from dotenv import load_dotenv\n",
    "\n",
    "load_dotenv()\n",
    "AZURE_AI_SERVICES_API_KEY = os.getenv(\"AZURE_AI_SERVICES_API_KEY\")\n",
    "AZURE_AI_SERVICES_ENDPOINT = os.getenv(\"AZURE_AI_SERVICES_ENDPOINT\")"
   ]
  },
  {
   "cell_type": "code",
   "execution_count": null,
   "metadata": {},
   "outputs": [],
   "source": [
    "from azure.core.credentials import AzureKeyCredential\n",
    "from azure.ai.documentintelligence import DocumentIntelligenceClient\n",
    "from azure.ai.documentintelligence.models import AnalyzeDocumentRequest, AnalyzeResult\n",
    "\n",
    "document_intelligence_client = DocumentIntelligenceClient(\n",
    "    endpoint=AZURE_AI_SERVICES_ENDPOINT,\n",
    "    credential=AzureKeyCredential(AZURE_AI_SERVICES_API_KEY),\n",
    ")\n",
    "\n",
    "with open(path_input_file, \"rb\") as f:\n",
    "    poller = document_intelligence_client.begin_analyze_document(\n",
    "        model_id=\"prebuilt-layout\",\n",
    "        body=f,\n",
    "        output_content_format=\"markdown\",\n",
    "    )\n",
    "\n",
    "result: AnalyzeResult = poller.result()"
   ]
  },
  {
   "cell_type": "code",
   "execution_count": null,
   "metadata": {},
   "outputs": [],
   "source": [
    "print(type(result))"
   ]
  },
  {
   "cell_type": "markdown",
   "metadata": {},
   "source": [
    "## contents"
   ]
  },
  {
   "cell_type": "code",
   "execution_count": null,
   "metadata": {},
   "outputs": [],
   "source": [
    "print(result.content)"
   ]
  },
  {
   "cell_type": "code",
   "execution_count": null,
   "metadata": {},
   "outputs": [],
   "source": [
    "from common.file_utils import str_to_md_file\n",
    "\n",
    "output_dir = get_output_dir()\n",
    "path_output_file = output_dir / \"2_15.md\"\n",
    "str_to_md_file(result.content, path_output_file)"
   ]
  },
  {
   "cell_type": "markdown",
   "metadata": {},
   "source": [
    "## sections"
   ]
  },
  {
   "cell_type": "code",
   "execution_count": null,
   "metadata": {},
   "outputs": [],
   "source": [
    "print(result.sections)"
   ]
  },
  {
   "cell_type": "code",
   "execution_count": null,
   "metadata": {},
   "outputs": [],
   "source": [
    "def get_sections(result: AnalyzeResult) -> list[list[str]]:\n",
    "    sections = []\n",
    "    for section in result.sections:\n",
    "        sections.append(section.elements)\n",
    "    return section"
   ]
  },
  {
   "cell_type": "code",
   "execution_count": null,
   "metadata": {},
   "outputs": [],
   "source": [
    "get_sections(result)"
   ]
  },
  {
   "cell_type": "markdown",
   "metadata": {},
   "source": [
    "## paragraphs"
   ]
  },
  {
   "cell_type": "code",
   "execution_count": null,
   "metadata": {},
   "outputs": [],
   "source": [
    "print(result.paragraphs)"
   ]
  },
  {
   "cell_type": "code",
   "execution_count": null,
   "metadata": {},
   "outputs": [],
   "source": [
    "def get_paragraphs(result: AnalyzeResult) -> list[dict[str,str]]:\n",
    "    paragraphs = []\n",
    "    for idx, paragraph in enumerate(result.paragraphs):\n",
    "        item = {\n",
    "            \"id\": \"/paragraphs/\" + str(idx),\n",
    "            \"content\": paragraph.content if paragraph.content else \"\",\n",
    "            \"role\": paragraph.role if paragraph.role else \"\",\n",
    "            \"polygon\": paragraph.get(\"boundingRegions\")[0][\"polygon\"],\n",
    "            \"pageNumber\": paragraph.get(\"boundingRegions\")[0][\"pageNumber\"],\n",
    "        }\n",
    "        paragraphs.append(item)\n",
    "    return paragraphs"
   ]
  },
  {
   "cell_type": "code",
   "execution_count": null,
   "metadata": {},
   "outputs": [],
   "source": [
    "get_paragraphs(result)"
   ]
  },
  {
   "cell_type": "markdown",
   "metadata": {},
   "source": [
    "## tables"
   ]
  },
  {
   "cell_type": "code",
   "execution_count": null,
   "metadata": {},
   "outputs": [],
   "source": [
    "print(result.tables)"
   ]
  },
  {
   "cell_type": "code",
   "execution_count": null,
   "metadata": {},
   "outputs": [],
   "source": [
    "def get_tables(result: AnalyzeResult) -> list[dict[str,Any]]:\n",
    "    tables = []\n",
    "    for _, table in enumerate(result.tables):\n",
    "        cells = []\n",
    "        for cell in table.cells: \n",
    "            cells.append( {\n",
    "                \"row_index\": cell.row_index,\n",
    "                \"column_index\": cell.column_index,\n",
    "                \"content\": cell.content,\n",
    "            })\n",
    "        tab = {\n",
    "                \"row_count\": table.row_count,\n",
    "                \"column_count\": table.column_count,\n",
    "                \"cells\": cells\n",
    "        }\n",
    "        tables.append(tab)\n",
    "        return tables"
   ]
  },
  {
   "cell_type": "code",
   "execution_count": null,
   "metadata": {},
   "outputs": [],
   "source": [
    "get_tables(result)"
   ]
  },
  {
   "cell_type": "markdown",
   "metadata": {},
   "source": [
    "## figures"
   ]
  },
  {
   "cell_type": "code",
   "execution_count": null,
   "metadata": {},
   "outputs": [],
   "source": [
    "print(result.figures)"
   ]
  },
  {
   "cell_type": "code",
   "execution_count": null,
   "metadata": {},
   "outputs": [],
   "source": [
    "def print_figures(result: AnalyzeResult) -> None:\n",
    "    if result.figures is None:\n",
    "        print(\"figureが存在しません\")\n",
    "        pass\n",
    "    for idx, figures in enumerate(result.figures):\n",
    "        print(f\"--------Analysis of Figures #{idx + 1}--------\")\n",
    "\n",
    "        if figures.caption:\n",
    "            title = figures.caption.get(\"content\")\n",
    "            if title:\n",
    "                print(f\"Caption: {title}\")\n",
    "\n",
    "            elements = figures.caption.get(\"elements\")\n",
    "            if elements:\n",
    "                print(\"...caption elements involved:\")\n",
    "                for item in elements:\n",
    "                  print(f\"......Item #{item}\")\n",
    "\n",
    "            captionBR = []\n",
    "            caption_boundingRegions = figures.caption.get(\"boundingRegions\")\n",
    "            if caption_boundingRegions:\n",
    "                print(\"...caption bounding regions involved:\")\n",
    "                for item in caption_boundingRegions:\n",
    "                    #print(f\"...Item #{item}\")\n",
    "                    print(f\"......Item pageNumber: {item.get('pageNumber')}\")\n",
    "                    print(f\"......Item polygon: {item.get('polygon')}\")\n",
    "                    captionBR = item.get('polygon')\n",
    "\n",
    "        if figures.elements:\n",
    "            print(\"Elements involved:\")\n",
    "            for item in figures.elements:\n",
    "                print(f\"...Item #{item}\")\n",
    "\n",
    "        boundingRegions = figures.get(\"boundingRegions\")\n",
    "        if boundingRegions:\n",
    "            print(\"Bounding regions involved:\")\n",
    "            for item in boundingRegions:\n",
    "                #print(f\"...Item #{item}\")\n",
    "                if captionBR != item.get('polygon'): #caption の polygon を除外したい\n",
    "                    print(f\"......Item pageNumber: {item.get('pageNumber')}\")\n",
    "                    print(f\"......Item polygon: {item.get('polygon')}\")\n"
   ]
  },
  {
   "cell_type": "code",
   "execution_count": null,
   "metadata": {},
   "outputs": [],
   "source": [
    "print_figures(result)"
   ]
  },
  {
   "cell_type": "markdown",
   "metadata": {},
   "source": [
    "## 図の切り出しと保存"
   ]
  },
  {
   "cell_type": "code",
   "execution_count": null,
   "metadata": {},
   "outputs": [],
   "source": [
    "from PIL import Image\n",
    "import fitz  # PyMuPDF\n",
    "import mimetypes\n",
    "from mimetypes import guess_type\n",
    "def crop_image_from_image(image_path, page_number, bounding_box):\n",
    "    \"\"\"\n",
    "    Crops an image based on a bounding box.\n",
    "\n",
    "    :param image_path: Path to the image file.\n",
    "    :param page_number: The page number of the image to crop (for TIFF format).\n",
    "    :param bounding_box: A tuple of (left, upper, right, lower) coordinates for the bounding box.\n",
    "    :return: A cropped image.\n",
    "    :rtype: PIL.Image.Image\n",
    "    \"\"\"\n",
    "    with Image.open(image_path) as img:\n",
    "        if img.format == \"TIFF\":\n",
    "            # Open the TIFF image\n",
    "            img.seek(page_number)\n",
    "            img = img.copy()\n",
    "            \n",
    "        # The bounding box is expected to be in the format (left, upper, right, lower).\n",
    "        cropped_image = img.crop(bounding_box)\n",
    "        return cropped_image\n",
    "\n",
    "def crop_image_from_pdf_page(pdf_path, page_number, bounding_box):\n",
    "    \"\"\"\n",
    "    Crops a region from a given page in a PDF and returns it as an image.\n",
    "\n",
    "    :param pdf_path: Path to the PDF file.\n",
    "    :param page_number: The page number to crop from (0-indexed).\n",
    "    :param bounding_box: A tuple of (x0, y0, x1, y1) coordinates for the bounding box.\n",
    "    :return: A PIL Image of the cropped area.\n",
    "    \"\"\"\n",
    "    doc = fitz.open(pdf_path)\n",
    "    page = doc.load_page(page_number)\n",
    "    \n",
    "    # Cropping the page. The rect requires the coordinates in the format (x0, y0, x1, y1).\n",
    "    # The coordinates are in points (1/72 inch).\n",
    "    bbx = [x * 72 for x in bounding_box]\n",
    "    rect = fitz.Rect(bbx)\n",
    "    pix = page.get_pixmap(matrix=fitz.Matrix(300/72, 300/72), clip=rect)\n",
    "    img = Image.frombytes(\"RGB\", [pix.width, pix.height], pix.samples)\n",
    "    doc.close()\n",
    "\n",
    "    return img\n",
    "\n",
    "def crop_image_from_file(file_path, page_number, bounding_box):\n",
    "    \"\"\"\n",
    "    Crop an image from a file.\n",
    "\n",
    "    Args:\n",
    "        file_path (str): The path to the file.\n",
    "        page_number (int): The page number (for PDF and TIFF files, 0-indexed).\n",
    "        bounding_box (tuple): The bounding box coordinates in the format (x0, y0, x1, y1).\n",
    "\n",
    "    Returns:\n",
    "        A PIL Image of the cropped area.\n",
    "    \"\"\"\n",
    "    mime_type = mimetypes.guess_type(file_path)[0]\n",
    "    \n",
    "    if mime_type == \"application/pdf\":\n",
    "        return crop_image_from_pdf_page(file_path, page_number, bounding_box)\n",
    "    else:\n",
    "        return crop_image_from_image(file_path, page_number, bounding_box)\n"
   ]
  },
  {
   "cell_type": "code",
   "execution_count": null,
   "metadata": {},
   "outputs": [],
   "source": []
  },
  {
   "cell_type": "code",
   "execution_count": null,
   "metadata": {},
   "outputs": [],
   "source": []
  },
  {
   "cell_type": "code",
   "execution_count": null,
   "metadata": {},
   "outputs": [],
   "source": []
  }
 ],
 "metadata": {
  "kernelspec": {
   "display_name": ".venv",
   "language": "python",
   "name": "python3"
  },
  "language_info": {
   "codemirror_mode": {
    "name": "ipython",
    "version": 3
   },
   "file_extension": ".py",
   "mimetype": "text/x-python",
   "name": "python",
   "nbconvert_exporter": "python",
   "pygments_lexer": "ipython3",
   "version": "3.11.6"
  }
 },
 "nbformat": 4,
 "nbformat_minor": 2
}
